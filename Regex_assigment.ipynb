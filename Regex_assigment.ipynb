{
 "cells": [
  {
   "cell_type": "code",
   "execution_count": 18,
   "id": "a502a2fa",
   "metadata": {},
   "outputs": [
    {
     "name": "stdout",
     "output_type": "stream",
     "text": [
      "Python:Exercises::PHP:exercises:\n"
     ]
    }
   ],
   "source": [
    "import re\n",
    "\n",
    "def replacement(text):\n",
    "    pattern = r'[ ,.]'\n",
    "    replaced_data =re.sub(pattern, ':', text)\n",
    "    return replaced_data\n",
    "data='Python Exercises, PHP exercises.'\n",
    "result= replacement(data)\n",
    "print(result)"
   ]
  },
  {
   "cell_type": "code",
   "execution_count": 5,
   "id": "7e58f00e",
   "metadata": {},
   "outputs": [
    {
     "name": "stdout",
     "output_type": "stream",
     "text": [
      "['Exercises', 'exercises']\n"
     ]
    }
   ],
   "source": [
    "def filter_a_or_r(text):\n",
    "    pattern=r'\\b[aeAE]\\w+\\b'\n",
    "    output=re.findall(pattern,text)\n",
    "    return output\n",
    "\n",
    "data='Python Exercises, PHP exercises.'\n",
    "result=filter_a_or_r(data)\n",
    "print(result)"
   ]
  },
  {
   "cell_type": "code",
   "execution_count": 7,
   "id": "355f190c",
   "metadata": {},
   "outputs": [
    {
     "name": "stdout",
     "output_type": "stream",
     "text": [
      "[]\n"
     ]
    }
   ],
   "source": [
    "def recompile(text):\n",
    "    pattern=re.compile(r'\\b\\w{4, }\\b')\n",
    "    output=pattern.findall(text)\n",
    "    return output\n",
    "\n",
    "data='Python Exercises, PHP exercises.'\n",
    "result=recompile(data)\n",
    "print(result)"
   ]
  },
  {
   "cell_type": "code",
   "execution_count": 8,
   "id": "a6a5c28b",
   "metadata": {},
   "outputs": [
    {
     "name": "stdout",
     "output_type": "stream",
     "text": [
      "['PHP']\n"
     ]
    }
   ],
   "source": [
    "def recompile1(text):\n",
    "    pattern=re.compile(r'\\b\\w{3,5}\\b')\n",
    "    output=pattern.findall(text)\n",
    "    return output\n",
    "\n",
    "data='Python Exercises, PHP exercises.'\n",
    "result=recompile1(data)\n",
    "print(result)"
   ]
  },
  {
   "cell_type": "code",
   "execution_count": 12,
   "id": "e0517477",
   "metadata": {},
   "outputs": [
    {
     "name": "stdout",
     "output_type": "stream",
     "text": [
      "example\n",
      "hr@fliprobo\n",
      "github\n",
      "Hello\n",
      "Data\n"
     ]
    }
   ],
   "source": [
    "def question5(strings):\n",
    "    pattern=re.compile(r'\\s?\\([^)]*\\)')\n",
    "    op_str=[pattern.sub('',s) for s in strings]\n",
    "    return op_str\n",
    "\n",
    "sample_text = [\n",
    "    \"example (.com)\", \n",
    "    \"hr@fliprobo (.com)\", \n",
    "    \"github (.com)\", \n",
    "    \"Hello (Data Science World)\", \n",
    "    \"Data (Scientist)\"\n",
    "]\n",
    "\n",
    "result=question5(sample_text)\n",
    "for item in result:\n",
    "    print(item)"
   ]
  },
  {
   "cell_type": "code",
   "execution_count": 16,
   "id": "f131cce3",
   "metadata": {},
   "outputs": [
    {
     "name": "stdout",
     "output_type": "stream",
     "text": [
      "[\"example\", \"hr@fliprobo\", \"github\", \"Hello\", \"Data\"]\n"
     ]
    }
   ],
   "source": [
    "with open('sample_text.txt', 'r') as file:\n",
    "    lines = file.readlines()\n",
    "\n",
    "def remove_parentheses(text):\n",
    "    pattern = re.compile(r'\\s?\\([^)]*\\)')\n",
    "    return pattern.sub('', text)\n",
    "\n",
    "\n",
    "cleaned_lines = [remove_parentheses(line.strip()) for line in lines]\n",
    "\n",
    "\n",
    "for cleaned_line in cleaned_lines:\n",
    "    print(cleaned_line)\n"
   ]
  },
  {
   "cell_type": "code",
   "execution_count": 24,
   "id": "bf7c9b11",
   "metadata": {},
   "outputs": [
    {
     "name": "stdout",
     "output_type": "stream",
     "text": [
      "['Importance', 'Of', 'Regular', 'Expressions', 'In', 'Python']\n"
     ]
    }
   ],
   "source": [
    "import re\n",
    "sample1_text= 'ImportanceOfRegularExpressionsInPython'\n",
    "result=re.findall('[A-Z][a-z]*',sample1_text)\n",
    "\n",
    "print(result)"
   ]
  },
  {
   "cell_type": "code",
   "execution_count": 26,
   "id": "157ada35",
   "metadata": {},
   "outputs": [
    {
     "name": "stdout",
     "output_type": "stream",
     "text": [
      "RegularExpression1 IsAn2 ImportantTopic3 InPython\n"
     ]
    }
   ],
   "source": [
    "def question8(text):\n",
    "    result=re.sub(r'([0-9])([A-Za-z])', r'\\1 \\2', text)\n",
    "    return result\n",
    "sample2_text='RegularExpression1IsAn2ImportantTopic3InPython'\n",
    "result=question8(sample2_text)\n",
    "print(result)"
   ]
  },
  {
   "cell_type": "code",
   "execution_count": 30,
   "id": "154147e4",
   "metadata": {},
   "outputs": [
    {
     "name": "stdout",
     "output_type": "stream",
     "text": [
      "Regular Expression 1 Is An 2 Important Topic 3 In Python\n"
     ]
    }
   ],
   "source": [
    "def question9(text):\n",
    "    result = re.sub(r'(?<=[a-z])([A-Z0-9])', r' \\1', text)\n",
    "    result = re.sub(r'([0-9])([A-Za-z])', r'\\1 \\2', result)\n",
    "    return result \n",
    "sample3_text='RegularExpression1IsAn2ImportantTopic3InPython'\n",
    "result=question9(sample3_text)\n",
    "print(result)"
   ]
  },
  {
   "cell_type": "code",
   "execution_count": 50,
   "id": "e11188dc",
   "metadata": {},
   "outputs": [
    {
     "name": "stdout",
     "output_type": "stream",
     "text": [
      "Gujarat:True\n",
      "India_is_great:False\n",
      "letz_rock:False\n"
     ]
    }
   ],
   "source": [
    "def question(s):\n",
    "    pattern =r'^[A-Za-z0-9]*$'\n",
    "    return re.match(pattern,s) is not None\n",
    "\n",
    "sample=['Gujarat','India_is_great','letz_rock']\n",
    "for sample in sample:\n",
    "    print(f\"{(sample)}:{question(sample)}\")"
   ]
  },
  {
   "cell_type": "code",
   "execution_count": 54,
   "id": "611bc779",
   "metadata": {},
   "outputs": [
    {
     "name": "stdout",
     "output_type": "stream",
     "text": [
      "Its incorrect\n",
      "'2307dt' starts with 230\n",
      "Its incorrect\n"
     ]
    }
   ],
   "source": [
    "def question12(s,number):\n",
    "    return s.startswith(str(number))\n",
    "\n",
    "data=['1102pss','2307dt','dts92']\n",
    "specify=230\n",
    "\n",
    "for data in data :\n",
    "    if question12(data,specify):\n",
    "        print(f\"'{data}' starts with {specify}\")\n",
    "    else:\n",
    "        print('Its incorrect')"
   ]
  },
  {
   "cell_type": "code",
   "execution_count": 57,
   "id": "76add0c4",
   "metadata": {},
   "outputs": [
    {
     "ename": "TypeError",
     "evalue": "'list' object is not callable",
     "output_type": "error",
     "traceback": [
      "\u001b[1;31m---------------------------------------------------------------------------\u001b[0m",
      "\u001b[1;31mTypeError\u001b[0m                                 Traceback (most recent call last)",
      "\u001b[1;32m~\\AppData\\Local\\Temp\\ipykernel_12804\\464823744.py\u001b[0m in \u001b[0;36m<module>\u001b[1;34m\u001b[0m\n\u001b[0;32m      9\u001b[0m \u001b[0msearched_words\u001b[0m\u001b[1;33m=\u001b[0m\u001b[1;33m[\u001b[0m\u001b[1;34m'fox'\u001b[0m\u001b[1;33m,\u001b[0m\u001b[1;34m'dog'\u001b[0m\u001b[1;33m,\u001b[0m\u001b[1;34m'hourse'\u001b[0m\u001b[1;33m]\u001b[0m\u001b[1;33m\u001b[0m\u001b[1;33m\u001b[0m\u001b[0m\n\u001b[0;32m     10\u001b[0m \u001b[1;33m\u001b[0m\u001b[0m\n\u001b[1;32m---> 11\u001b[1;33m \u001b[0mfound_words\u001b[0m\u001b[1;33m=\u001b[0m\u001b[0msearched_words\u001b[0m\u001b[1;33m(\u001b[0m\u001b[0msample6\u001b[0m\u001b[1;33m,\u001b[0m\u001b[0msearched_words\u001b[0m\u001b[1;33m)\u001b[0m\u001b[1;33m\u001b[0m\u001b[1;33m\u001b[0m\u001b[0m\n\u001b[0m\u001b[0;32m     12\u001b[0m \u001b[0mprint\u001b[0m\u001b[1;33m(\u001b[0m\u001b[1;34m'Found words:'\u001b[0m\u001b[1;33m,\u001b[0m \u001b[0mfound_words\u001b[0m\u001b[1;33m)\u001b[0m\u001b[1;33m\u001b[0m\u001b[1;33m\u001b[0m\u001b[0m\n",
      "\u001b[1;31mTypeError\u001b[0m: 'list' object is not callable"
     ]
    }
   ],
   "source": [
    "def question15(text,words):\n",
    "    found_words=[]\n",
    "    for word in words:\n",
    "        if word in text:\n",
    "            found_words.append(word)\n",
    "    return found_words\n",
    "\n",
    "sample6='The quick brown fox jumps over the lazy dog'\n",
    "searched_words=['fox','dog','hourse']\n",
    "\n",
    "found_words=searched_words(sample6,searched_words)\n",
    "print('Found words:', found_words)"
   ]
  },
  {
   "cell_type": "code",
   "execution_count": 59,
   "id": "1527e3ce",
   "metadata": {},
   "outputs": [
    {
     "name": "stdout",
     "output_type": "stream",
     "text": [
      "'fox' found at positions: [16]\n"
     ]
    }
   ],
   "source": [
    "def question16(text, word):\n",
    "    locations = []\n",
    "    start = text.find(word)\n",
    "    while start != -1:\n",
    "        locations.append(start)\n",
    "        start = text.find(word, start + 1)\n",
    "    return locations\n",
    "\n",
    "sample_text = 'The quick brown fox jumps over the lazy dog.'\n",
    "searched_word = 'fox'\n",
    "\n",
    "found_locations = question16(sample_text, searched_word)\n",
    "print(f\"'{searched_word}' found at positions:\", found_locations)\n"
   ]
  },
  {
   "cell_type": "code",
   "execution_count": 62,
   "id": "b99639fc",
   "metadata": {},
   "outputs": [
    {
     "name": "stdout",
     "output_type": "stream",
     "text": [
      "'exercises' found at positions: [7, 22, 36]\n"
     ]
    }
   ],
   "source": [
    "def question17(text, pattern):\n",
    "    positions = []\n",
    "    start = text.find(pattern)\n",
    "    while start != -1:\n",
    "        positions.append(start)\n",
    "        start = text.find(pattern, start + 1)\n",
    "    return positions\n",
    "\n",
    "sample_text = 'Python exercises, PHP exercises, C# exercises'\n",
    "pattern = 'exercises'\n",
    "\n",
    "found_positions = question17(sample_text, pattern)\n",
    "print(f\"'{pattern}' found at positions:\", found_positions)\n"
   ]
  },
  {
   "cell_type": "code",
   "execution_count": 63,
   "id": "336f3fbf",
   "metadata": {},
   "outputs": [],
   "source": [
    "def question19(date):\n",
    "    parts = date.split('-')\n",
    "    if len(parts) != 3:\n",
    "        return \"Invalid date format\"\n",
    "\n",
    "    year, month, day = parts\n",
    "    new_date = f\"{day}-{month}-{year}\"\n",
    "    return new_date\n"
   ]
  },
  {
   "cell_type": "code",
   "execution_count": 67,
   "id": "0ef69fb8",
   "metadata": {},
   "outputs": [
    {
     "name": "stdout",
     "output_type": "stream",
     "text": [
      "['.5', '.34']\n"
     ]
    }
   ],
   "source": [
    "def question20(text):\n",
    "    pattern = re.compile(r'\\b\\d+(\\.\\d{1,2})?\\b')\n",
    "    matches = pattern.findall(text)\n",
    "    return matches\n",
    "\n",
    "sample_text = \"The price is 10.5, and the weight is 2.34 kg.\"\n",
    "result = question20(sample_text)\n",
    "print(result)\n"
   ]
  },
  {
   "cell_type": "code",
   "execution_count": 69,
   "id": "a5c1aecd",
   "metadata": {},
   "outputs": [
    {
     "name": "stdout",
     "output_type": "stream",
     "text": [
      "Number: 123, Position: 3\n",
      "Number: 23, Position: 4\n",
      "Number: 3, Position: 5\n",
      "Number: 456, Position: 9\n",
      "Number: 56, Position: 10\n",
      "Number: 6, Position: 11\n",
      "Number: 789, Position: 15\n",
      "Number: 89, Position: 16\n",
      "Number: 9, Position: 17\n"
     ]
    }
   ],
   "source": [
    "def question21(text):\n",
    "    numbers = []\n",
    "    for index, char in enumerate(text):\n",
    "        if char.isdigit():\n",
    "            start = index\n",
    "            end = index\n",
    "            while end < len(text) and text[end].isdigit():\n",
    "                end += 1\n",
    "            number = text[start:end]\n",
    "            numbers.append((int(number), start))\n",
    "    return numbers\n",
    "\n",
    "sample_text = \"abc123def456xyz789\"\n",
    "number_positions = question21(sample_text)\n",
    "\n",
    "for number, position in number_positions:\n",
    "    print(f\"Number: {number}, Position: {position}\")\n"
   ]
  },
  {
   "cell_type": "code",
   "execution_count": 72,
   "id": "2a2c5f03",
   "metadata": {},
   "outputs": [
    {
     "name": "stdout",
     "output_type": "stream",
     "text": [
      "Maximum numeric value: 950\n"
     ]
    }
   ],
   "source": [
    "\n",
    "def queston22(text):\n",
    "    numbers = re.findall(r'\\d+', text)\n",
    "    if numbers:\n",
    "        max_number = max(map(int, numbers))\n",
    "        return max_number\n",
    "    else:\n",
    "        return None\n",
    "\n",
    "sample_text = 'My marks in each semester are: 947, 896, 926, 524, 734, 950, 642'\n",
    "max_numeric_value = queston22(sample_text)\n",
    "\n",
    "if max_numeric_value is not None:\n",
    "    print(\"Maximum numeric value:\", max_numeric_value)\n",
    "else:\n",
    "    print(\"No numeric values found.\")\n"
   ]
  },
  {
   "cell_type": "code",
   "execution_count": 74,
   "id": "4cc93571",
   "metadata": {},
   "outputs": [
    {
     "name": "stdout",
     "output_type": "stream",
     "text": [
      "Regular Expression Is An Important Topic In Python\n"
     ]
    }
   ],
   "source": [
    "def question23(text):\n",
    "    result = re.sub(r'(?<=[a-z])([A-Z])', r' \\1', text)\n",
    "    return result\n",
    "\n",
    "sample_text = \"RegularExpressionIsAnImportantTopicInPython\"\n",
    "result = question23(sample_text)\n",
    "print(result)\n"
   ]
  },
  {
   "cell_type": "code",
   "execution_count": 77,
   "id": "e64b820f",
   "metadata": {},
   "outputs": [],
   "source": [
    "pattern=r'[A-Z][a-z]+'\n",
    "\n",
    "#QUESTION 24"
   ]
  },
  {
   "cell_type": "code",
   "execution_count": 78,
   "id": "4a86ae08",
   "metadata": {},
   "outputs": [
    {
     "name": "stdout",
     "output_type": "stream",
     "text": [
      "Hello hello world\n"
     ]
    }
   ],
   "source": [
    "def question25(sentence):\n",
    "    pattern = r'\\b(\\w+)(\\s+\\1)+\\b'\n",
    "    cleaned_sentence = re.sub(pattern, r'\\1', sentence)\n",
    "    return cleaned_sentence\n",
    "\n",
    "sample_text = \"Hello hello world world\"\n",
    "result = question25(sample_text)\n",
    "print(result)\n"
   ]
  },
  {
   "cell_type": "code",
   "execution_count": 81,
   "id": "e76ea3cc",
   "metadata": {},
   "outputs": [],
   "source": [
    "def question26(text):\n",
    "    pattern=r'^.*[A-Za-z0-9]$'\n",
    "    return re.match(pattern , text) is not None"
   ]
  },
  {
   "cell_type": "code",
   "execution_count": 85,
   "id": "c1549e35",
   "metadata": {},
   "outputs": [
    {
     "name": "stdout",
     "output_type": "stream",
     "text": [
      "['#Doltiwal', '#xyzabc', '#Demonetization']\n"
     ]
    }
   ],
   "source": [
    "def question27(text):\n",
    "    pattern=r'#\\w+'\n",
    "    hashtags=re.findall(pattern,text)\n",
    "    return hashtags\n",
    "sample_text= \"\"\"RT @kapil_kausik: #Doltiwal I mean #xyzabc is \"hurt\" by #Demonetization as the same has rendered USELESS <ed><U+00A0><U+00BD><ed><U+00B1><U+0089> \"acquired funds\" No wo\"\"\"\n",
    "hashtags=question27(sample_text)\n",
    "print(hashtags)"
   ]
  },
  {
   "cell_type": "code",
   "execution_count": 89,
   "id": "1254a7a9",
   "metadata": {},
   "outputs": [
    {
     "name": "stdout",
     "output_type": "stream",
     "text": [
      "RT @kapil_kausik: #Doltiwal I mean #xyzabc is \"hurt\" by #Demonetization as the same has rendered USELESS <ed><ed> \"acquired funds\" No wo\n"
     ]
    }
   ],
   "source": [
    "def question28(text):\n",
    "    pattern= r'<U\\+[A-Za-z0-9]+>'\n",
    "    output=re.sub(pattern,'',text)\n",
    "    return output\n",
    "\n",
    "Sample_text= \"@Jags123456 Bharat band on 28??<ed><U+00A0><U+00BD><ed><U+00B8><U+0082>Those who  are protesting #demonetization  are all different party leaders\"\n",
    "output=question28(sample_text)\n",
    "print(output)\n",
    "    "
   ]
  },
  {
   "cell_type": "code",
   "execution_count": 90,
   "id": "5763211f",
   "metadata": {},
   "outputs": [
    {
     "name": "stdout",
     "output_type": "stream",
     "text": [
      " following example creates  ArrayList  a capacity   elements. 4 elements   added   ArrayList   ArrayList  trimmed accordingly.\n"
     ]
    }
   ],
   "source": [
    "def question30(text, min_length, max_length):\n",
    "    pattern = re.compile(r'\\b\\w{'+str(min_length)+r','+str(max_length)+r'}\\b')\n",
    "    cleaned_text = pattern.sub('', text)\n",
    "    return cleaned_text\n",
    "\n",
    "sample_text = \"The following example creates an ArrayList with a capacity of 50 elements. 4 elements are then added to the ArrayList and the ArrayList is trimmed accordingly.\"\n",
    "min_length = 2\n",
    "max_length = 4\n",
    "cleaned_text = question30(sample_text, min_length, max_length)\n",
    "print(cleaned_text)\n"
   ]
  }
 ],
 "metadata": {
  "kernelspec": {
   "display_name": "Python 3 (ipykernel)",
   "language": "python",
   "name": "python3"
  },
  "language_info": {
   "codemirror_mode": {
    "name": "ipython",
    "version": 3
   },
   "file_extension": ".py",
   "mimetype": "text/x-python",
   "name": "python",
   "nbconvert_exporter": "python",
   "pygments_lexer": "ipython3",
   "version": "3.9.13"
  }
 },
 "nbformat": 4,
 "nbformat_minor": 5
}
